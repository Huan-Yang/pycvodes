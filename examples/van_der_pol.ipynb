{
 "cells": [
  {
   "cell_type": "code",
   "execution_count": null,
   "metadata": {
    "collapsed": false
   },
   "outputs": [],
   "source": [
    "from pycvodes import integrate_adaptive, fpes\n",
    "from van_der_pol import get_f_and_j"
   ]
  },
  {
   "cell_type": "code",
   "execution_count": null,
   "metadata": {
    "collapsed": false
   },
   "outputs": [],
   "source": [
    "help(integrate_adaptive)"
   ]
  },
  {
   "cell_type": "code",
   "execution_count": null,
   "metadata": {
    "collapsed": false
   },
   "outputs": [],
   "source": [
    "rhs, jac = get_f_and_j(1.0)\n",
    "xout, yout, info = integrate_adaptive(\n",
    "    rhs, jac, [0, 1], 0, 25.0, dx0=1e-12, atol=1e-7, rtol=1e-7,\n",
    "    record_rhs_tvals=True, record_jac_tvals=True, record_order=True,\n",
    "    record_fpe=True, nsteps=2000)\n",
    "print(info['success'])"
   ]
  },
  {
   "cell_type": "code",
   "execution_count": null,
   "metadata": {
    "collapsed": false
   },
   "outputs": [],
   "source": [
    "import matplotlib.pyplot as plt\n",
    "%matplotlib inline\n",
    "fig, axes = plt.subplots(5, 1, figsize=(16,16))\n",
    "for k, ax in zip(['steps', 'rhs', 'jac'], axes.flat):\n",
    "    for x in xout if k == 'steps' else info[k + '_tvals']:\n",
    "        ax.axvline(x, c='darkgreen', alpha=0.1)\n",
    "    ax.plot(xout, yout)\n",
    "    ax.set_xlim([xout[0], xout[-1]])\n",
    "    ax.set_ylabel(k)\n",
    "axes[-2].plot(xout[1:], info['fpes'][1:] - 32)\n",
    "axes[-2].set_ylabel('fpes')\n",
    "axes[-1].plot(xout, info['orders'])\n",
    "axes[-1].set_ylabel('order')\n",
    "_ = plt.tight_layout"
   ]
  },
  {
   "cell_type": "code",
   "execution_count": null,
   "metadata": {
    "collapsed": false
   },
   "outputs": [],
   "source": [
    "fpes"
   ]
  },
  {
   "cell_type": "code",
   "execution_count": null,
   "metadata": {
    "collapsed": true
   },
   "outputs": [],
   "source": []
  }
 ],
 "metadata": {
  "kernelspec": {
   "display_name": "Python 2",
   "language": "python",
   "name": "python2"
  },
  "language_info": {
   "codemirror_mode": {
    "name": "ipython",
    "version": 2
   },
   "file_extension": ".py",
   "mimetype": "text/x-python",
   "name": "python",
   "nbconvert_exporter": "python",
   "pygments_lexer": "ipython2",
   "version": "2.7.12"
  }
 },
 "nbformat": 4,
 "nbformat_minor": 0
}
